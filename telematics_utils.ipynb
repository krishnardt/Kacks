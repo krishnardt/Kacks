{
 "cells": [
  {
   "cell_type": "code",
   "execution_count": 2,
   "metadata": {},
   "outputs": [],
   "source": [
    "import pandas as pd\n",
    "import math\n",
    "import numpy as np\n"
   ]
  },
  {
   "cell_type": "code",
   "execution_count": 36,
   "metadata": {},
   "outputs": [],
   "source": [
    "def calcDistance(lat1, long1, lat2, long2):\n",
    "    R = 6371000\n",
    "    l1 = lat1*math.pi/180\n",
    "    l2 = lat2*math.pi/180\n",
    "    del_lat = (lat2-lat1)*math.pi/180\n",
    "    del_lon = (long2-long1)*math.pi/180\n",
    "    \n",
    "    a = (math.sin(del_lat)**2)+math.cos(l1)*math.cos(l2)*math.sin(del_lon/2)*math.sin(del_lon/2)\n",
    "    c = 2*math.atan2(math.sqrt(a), math.sqrt(1-a))\n",
    "    d = R*c\n",
    "    return d"
   ]
  },
  {
   "cell_type": "code",
   "execution_count": 39,
   "metadata": {},
   "outputs": [
    {
     "name": "stdout",
     "output_type": "stream",
     "text": [
      "7839.596497676102\n"
     ]
    }
   ],
   "source": [
    "# lat1 = 42.0568558818695\n",
    "# lat2 = 42.02295663\n",
    "\n",
    "\n",
    "# lng1 = -88.00510846\n",
    "\n",
    "# lng2 = -87.94607531\n",
    "\n",
    "\n",
    "lat1 = 42.0918762\n",
    "lat2 = 42.05673553\n",
    "\n",
    "\n",
    "\n",
    "lng1 = -87.99747451\n",
    "\n",
    "lng2 = -88.0050035\n",
    "\n",
    "\n",
    "dist = calcDistance(lat1, lng1, lat2, lng2)\n",
    "print(dist)"
   ]
  },
  {
   "cell_type": "code",
   "execution_count": 44,
   "metadata": {},
   "outputs": [
    {
     "name": "stdout",
     "output_type": "stream",
     "text": [
      "357\n"
     ]
    }
   ],
   "source": [
    "def calcBearing(lat1, long1, lat2, long2):\n",
    "    l1 = lat1*math.pi/180\n",
    "    l2 = lat2*math.pi/180\n",
    "    del_lon = (long2-long1)*math.pi/180\n",
    "    theta = math.atan2((del_lon*math.cos(l2)), (math.cos(l1)*math.sin(l2))-(math.sin(l1)*math.cos(l2)*math.cos(del_lon)))\n",
    "    if theta < 0:\n",
    "        return int(360+theta)\n",
    "    return theta\n",
    "\n",
    "\n",
    "lat1 = 42.0918762\n",
    "lat2 = 42.05673553\n",
    "\n",
    "\n",
    "\n",
    "lng1 = -87.99747451\n",
    "\n",
    "lng2 = -88.0050035\n",
    "\n",
    "\n",
    "bearing = calcBearing(lat1, lng1, lat2, lng2)\n",
    "print(bearing)"
   ]
  },
  {
   "cell_type": "code",
   "execution_count": null,
   "metadata": {},
   "outputs": [],
   "source": []
  }
 ],
 "metadata": {
  "kernelspec": {
   "display_name": "Python 3",
   "language": "python",
   "name": "python3"
  },
  "language_info": {
   "codemirror_mode": {
    "name": "ipython",
    "version": 3
   },
   "file_extension": ".py",
   "mimetype": "text/x-python",
   "name": "python",
   "nbconvert_exporter": "python",
   "pygments_lexer": "ipython3",
   "version": "3.7.4"
  }
 },
 "nbformat": 4,
 "nbformat_minor": 2
}
